{
 "cells": [
  {
   "cell_type": "code",
   "execution_count": 1,
   "id": "worth-house",
   "metadata": {},
   "outputs": [],
   "source": [
    "import findspark\n",
    "findspark.init()\n",
    "import pyspark as ps\n",
    "import warnings\n",
    "from pyspark.sql import SQLContext\n",
    "from pymongo import MongoClient\n",
    "import pandas as pd\n",
    "from pyspark.sql import SparkSession\n",
    "from pyspark.ml.feature import CountVectorizer\n",
    "from pyspark.ml.classification import LogisticRegression\n",
    "from pyspark.ml.evaluation import BinaryClassificationEvaluator\n",
    "from pyspark.ml.feature import HashingTF, IDF, Tokenizer\n",
    "from pyspark.ml.feature import StringIndexer\n",
    "from pyspark.ml import Pipeline\n",
    "import matplotlib.pyplot as plt\n",
    "from pyspark.mllib.evaluation import BinaryClassificationMetrics\n",
    "from pyspark.mllib.evaluation import MulticlassMetrics \n",
    "import time\n",
    "from sklearn.metrics import roc_curve\n",
    "import matplotlib.pyplot as plt\n",
    "import numpy as np"
   ]
  },
  {
   "cell_type": "code",
   "execution_count": 2,
   "id": "ambient-patrick",
   "metadata": {},
   "outputs": [
    {
     "name": "stdout",
     "output_type": "stream",
     "text": [
      "Just created a SparkContext\n"
     ]
    }
   ],
   "source": [
    "try:\n",
    "    # create SparkContext on all CPUs available\n",
    "    # Tells how to acces a cluster\n",
    "    sc = ps.SparkContext()\n",
    "    sqlContext = SQLContext(sc)\n",
    "    print(\"Just created a SparkContext\")\n",
    "except ValueError:\n",
    "    warnings.warn(\"SparkContext already exists in this scope\")"
   ]
  },
  {
   "cell_type": "code",
   "execution_count": 3,
   "id": "treated-monster",
   "metadata": {},
   "outputs": [],
   "source": [
    " spark = SparkSession.builder.getOrCreate()"
   ]
  },
  {
   "cell_type": "code",
   "execution_count": 4,
   "id": "moral-tobacco",
   "metadata": {},
   "outputs": [],
   "source": [
    "# Database\n",
    "client = MongoClient(\"localhost:27017\")\n",
    "\n",
    "# Collection name\n",
    "db = client[\"hotel-reviews-database\"]"
   ]
  },
  {
   "cell_type": "code",
   "execution_count": 5,
   "id": "innovative-assets",
   "metadata": {},
   "outputs": [
    {
     "name": "stdout",
     "output_type": "stream",
     "text": [
      "<class 'pandas.core.frame.DataFrame'>\n",
      "RangeIndex: 121757 entries, 0 to 121756\n",
      "Data columns (total 4 columns):\n",
      " #   Column          Non-Null Count   Dtype  \n",
      "---  ------          --------------   -----  \n",
      " 0   Hotel_Name      121757 non-null  object \n",
      " 1   Reviewer_Score  121757 non-null  float64\n",
      " 2   Review          121757 non-null  object \n",
      " 3   label           121757 non-null  int64  \n",
      "dtypes: float64(1), int64(1), object(2)\n",
      "memory usage: 3.7+ MB\n"
     ]
    }
   ],
   "source": [
    "resultMongo = db.clean_reviews.find()\n",
    "source = list(resultMongo)\n",
    "resultDf = pd.DataFrame(source)\n",
    "\n",
    "# Reindex dataframe\n",
    "resultDf.reset_index(drop=True)\n",
    "\n",
    "resultDf = resultDf.drop(columns=\"_id\")\n",
    "resultDf.info()\n",
    "\n",
    "# Transform dataframe into a spark dataframe\n",
    "dfSpark = spark.createDataFrame(resultDf)"
   ]
  },
  {
   "cell_type": "code",
   "execution_count": 6,
   "id": "confused-approach",
   "metadata": {},
   "outputs": [
    {
     "data": {
      "text/plain": [
       "[('Hotel_Name', 'string'),\n",
       " ('Reviewer_Score', 'double'),\n",
       " ('Review', 'string'),\n",
       " ('label', 'bigint')]"
      ]
     },
     "execution_count": 6,
     "metadata": {},
     "output_type": "execute_result"
    }
   ],
   "source": [
    "dfSpark.dtypes"
   ]
  },
  {
   "cell_type": "code",
   "execution_count": 7,
   "id": "continuing-genome",
   "metadata": {},
   "outputs": [],
   "source": [
    "(train_set, test_set) = dfSpark.randomSplit([0.8, 0.2], seed=2000)"
   ]
  },
  {
   "cell_type": "code",
   "execution_count": 8,
   "id": "historic-cameroon",
   "metadata": {},
   "outputs": [],
   "source": [
    "# Zet een review om in een array van enkelvoudige woorden\n",
    "tokenizer = Tokenizer(inputCol=\"Review\", outputCol=\"words\")\n",
    "dfSparkTokTrain = tokenizer.transform(train_set)\n",
    "dfSparkTokTest = tokenizer.transform(test_set)"
   ]
  },
  {
   "cell_type": "code",
   "execution_count": 9,
   "id": "legitimate-northwest",
   "metadata": {},
   "outputs": [],
   "source": [
    "# Extraheert een woordenschat uit documentverzamelingen en genereert een CountVectorizerModel.\n",
    "# vocabSize = maximaal aantal woorden\n",
    "cv = CountVectorizer(vocabSize=1000, inputCol=\"words\", outputCol='cv')\n",
    "\n",
    "dfSparkCVTrain = cv.fit(dfSparkTokTrain)\n",
    "dfSparkCVTest = cv.fit(dfSparkTokTest)\n",
    "\n",
    "dfSparkCVTrain = dfSparkCVTrain.transform(dfSparkTokTrain)\n",
    "dfSparkCVTest = dfSparkCVTest.transform(dfSparkTokTest)"
   ]
  },
  {
   "cell_type": "code",
   "execution_count": 10,
   "id": "integral-beauty",
   "metadata": {
    "scrolled": true
   },
   "outputs": [],
   "source": [
    "# idf \n",
    "# minDocFreq = review moet mini maal 5 worden/tekens hebben\n",
    "idf = IDF(inputCol='cv', outputCol=\"features\", minDocFreq=5) #minDocFreq: remove sparse terms\n",
    "idfTrain = idf.fit(dfSparkCVTrain)\n",
    "idfTest = idf.fit(dfSparkCVTest)\n",
    "\n",
    "trainIdf = idfTrain.transform(dfSparkCVTrain)\n",
    "testIdf = idfTest.transform(dfSparkCVTest)"
   ]
  },
  {
   "cell_type": "code",
   "execution_count": 11,
   "id": "weekly-playback",
   "metadata": {},
   "outputs": [],
   "source": [
    "# logRegression\n",
    "# featureCol = x \n",
    "# labelCol = y\n",
    "logRegression = LogisticRegression(featuresCol=\"features\", labelCol=\"label\")"
   ]
  },
  {
   "cell_type": "code",
   "execution_count": 12,
   "id": "increased-mitchell",
   "metadata": {},
   "outputs": [
    {
     "name": "stdout",
     "output_type": "stream",
     "text": [
      "Wall time: 13.1 s\n"
     ]
    }
   ],
   "source": [
    "%%time\n",
    "logModel = logRegression.fit(trainIdf)"
   ]
  },
  {
   "cell_type": "code",
   "execution_count": 13,
   "id": "affecting-calcium",
   "metadata": {},
   "outputs": [
    {
     "name": "stdout",
     "output_type": "stream",
     "text": [
      "Wall time: 71.8 ms\n"
     ]
    }
   ],
   "source": [
    "%%time\n",
    "predictions = logModel.transform(testIdf)"
   ]
  },
  {
   "cell_type": "code",
   "execution_count": 14,
   "id": "finished-neighborhood",
   "metadata": {},
   "outputs": [
    {
     "name": "stdout",
     "output_type": "stream",
     "text": [
      "0.7908680229428257\n"
     ]
    }
   ],
   "source": [
    "evaluator = BinaryClassificationEvaluator(rawPredictionCol=\"rawPrediction\")\n",
    "evaluator.evaluate(predictions)\n",
    "# ROC AUC and Accuracy\n",
    "roc_auc = evaluator.evaluate(predictions)\n",
    "print(roc_auc)"
   ]
  },
  {
   "cell_type": "code",
   "execution_count": 15,
   "id": "defined-institute",
   "metadata": {},
   "outputs": [],
   "source": [
    "from sklearn import metrics\n",
    "\n",
    "predictions_df = predictions.select(\"*\").toPandas()"
   ]
  },
  {
   "cell_type": "code",
   "execution_count": 16,
   "id": "black-incentive",
   "metadata": {},
   "outputs": [
    {
     "name": "stdout",
     "output_type": "stream",
     "text": [
      "Accuracy: 0.7304059855267999 | Precision: 0.736723612766521 | Recall: 0.8095168800931315\n",
      "F1 score: 0.7714067808361644\n"
     ]
    }
   ],
   "source": [
    "accuracy = metrics.accuracy_score(predictions_df['label'], predictions_df['prediction'])\n",
    "recall = metrics.recall_score(predictions_df['label'], predictions_df['prediction'])\n",
    "precision = metrics.precision_score(predictions_df['label'], predictions_df['prediction'])\n",
    "f1_score = 2 * (precision * recall) / (precision + recall)\n",
    "\n",
    "cm = metrics.confusion_matrix(predictions_df['label'], predictions_df['prediction'])\n",
    "\n",
    "print(f\"Accuracy: {accuracy} | Precision: {precision} | Recall: {recall}\")\n",
    "print(f\"F1 score: {f1_score}\")"
   ]
  },
  {
   "cell_type": "code",
   "execution_count": 17,
   "id": "duplicate-trading",
   "metadata": {},
   "outputs": [
    {
     "name": "stdout",
     "output_type": "stream",
     "text": [
      "[[ 6739  3976]\n",
      " [ 2618 11126]]\n"
     ]
    }
   ],
   "source": [
    "print(cm)"
   ]
  },
  {
   "cell_type": "code",
   "execution_count": 18,
   "id": "restricted-modern",
   "metadata": {},
   "outputs": [],
   "source": [
    "y_test = np.array(testIdf.select('label').collect())"
   ]
  },
  {
   "cell_type": "code",
   "execution_count": 19,
   "id": "incident-output",
   "metadata": {},
   "outputs": [],
   "source": [
    "predictionsRocCurve = np.array(predictions.select('prediction').collect())"
   ]
  },
  {
   "cell_type": "code",
   "execution_count": 20,
   "id": "smooth-cylinder",
   "metadata": {},
   "outputs": [],
   "source": [
    "fpr, tpr, _ = roc_curve(y_test, predictionsRocCurve)"
   ]
  },
  {
   "cell_type": "code",
   "execution_count": 21,
   "id": "together-employment",
   "metadata": {},
   "outputs": [
    {
     "data": {
      "image/png": "[encoded data removed]",
      "text/plain": [
       "<Figure size 432x288 with 1 Axes>"
      ]
     },
     "metadata": {
      "needs_background": "light"
     },
     "output_type": "display_data"
    }
   ],
   "source": [
    "plt.plot([0, 1], [0, 1], 'k--')\n",
    "plt.plot(fpr, tpr, label='ROC (auc=' + str(roc_auc) + ')')\n",
    "plt.xlabel('False Positive Rate')\n",
    "plt.ylabel('True Positive Rate')\n",
    "plt.title('Logistic Regression ROC Curve')\n",
    "plt.legend()\n",
    "plt.show()"
   ]
  },
  {
   "cell_type": "code",
   "execution_count": 22,
   "id": "excited-wyoming",
   "metadata": {},
   "outputs": [
    {
     "data": {
      "image/png": "[encoded data removed]",
      "text/plain": [
       "<Figure size 432x288 with 1 Axes>"
      ]
     },
     "metadata": {
      "needs_background": "light"
     },
     "output_type": "display_data"
    }
   ],
   "source": [
    "import matplotlib.pyplot as plt\n",
    "import seaborn as sns\n",
    "\n",
    "classes = [0, 1]\n",
    "fig, ax = plt.subplots()\n",
    "sns.heatmap(cm, annot=True, fmt='d', ax=ax, cmap=plt.cm.OrRd, cbar=False)\n",
    "ax.set(xlabel=\"Voorspelt\",\n",
    "ylabel=\"True\",\n",
    "xticklabels=classes,\n",
    "yticklabels=classes,\n",
    "title=\"Confusion Matrix\")\n",
    "plt.yticks(rotation=0)\n",
    "plt.show()"
   ]
  },
  {
   "cell_type": "code",
   "execution_count": null,
   "id": "actual-heading",
   "metadata": {},
   "outputs": [],
   "source": []
  }
 ],
 "metadata": {
  "kernelspec": {
   "display_name": "Python 3",
   "language": "python",
   "name": "python3"
  },
  "language_info": {
   "codemirror_mode": {
    "name": "ipython",
    "version": 3
   },
   "file_extension": ".py",
   "mimetype": "text/x-python",
   "name": "python",
   "nbconvert_exporter": "python",
   "pygments_lexer": "ipython3",
   "version": "3.7.9"
  }
 },
 "nbformat": 4,
 "nbformat_minor": 5
}
