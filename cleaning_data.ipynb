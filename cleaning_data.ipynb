{
 "cells": [
  {
   "cell_type": "code",
   "execution_count": null,
   "metadata": {},
   "outputs": [],
   "source": [
    "import pandas as pd\n",
    "from pymongo import MongoClient\n",
    "import re\n",
    "import numpy as np\n",
    "import time"
   ]
  },
  {
   "cell_type": "code",
   "execution_count": null,
   "metadata": {},
   "outputs": [],
   "source": [
    "# Read csv files\n",
    "dfKaggleReviews = pd.read_csv('Hotel_Reviews.csv')\n",
    "\n",
    "dfKaggleReviews = dfKaggleReviews.drop(dfKaggleReviews[(dfKaggleReviews['Review_Total_Negative_Word_Counts'] == 0) & (\n",
    "    dfKaggleReviews['Review_Total_Positive_Word_Counts'] == 0)].index)\n",
    "\n",
    "# drop columns\n",
    "dropping_columns = {'Hotel_Address', 'Additional_Number_of_Scoring', 'Average_Score', 'Reviewer_Nationality',\n",
    "                    'Total_Number_of_Reviews', 'Total_Number_of_Reviews_Reviewer_Has_Given', 'Tags', 'days_since_review', 'Review_Date', 'Review_Total_Positive_Word_Counts', 'Review_Total_Negative_Word_Counts', 'lat', 'lng'}\n",
    "\n",
    "dfKaggleReviews.drop(dropping_columns, inplace=True, axis=1)"
   ]
  },
  {
   "cell_type": "code",
   "execution_count": null,
   "metadata": {},
   "outputs": [],
   "source": [
    "dfKaggleReviews2 = dfKaggleReviews.head(75000)"
   ]
  },
  {
   "cell_type": "code",
   "execution_count": null,
   "metadata": {},
   "outputs": [],
   "source": [
    "dfKaggleReviews2"
   ]
  },
  {
   "cell_type": "code",
   "execution_count": null,
   "metadata": {},
   "outputs": [],
   "source": [
    "def split_review(dfKaggle):\n",
    "    df = pd.DataFrame()\n",
    "\n",
    "    for index, row in dfKaggle.iterrows():\n",
    "        df = df.append([[row.Hotel_Name, row.Reviewer_Score, row.Positive_Review,\n",
    "                         1]], ignore_index=True)\n",
    "        df = df.append([[row.Hotel_Name, row.Reviewer_Score, row.Negative_Review,\n",
    "                         0]], ignore_index=True)\n",
    "        # df.columns = cols\n",
    "\n",
    "    return df"
   ]
  },
  {
   "cell_type": "code",
   "execution_count": null,
   "metadata": {},
   "outputs": [],
   "source": [
    "dfKaggleReviews = split_review(dfKaggleReviews2)"
   ]
  },
  {
   "cell_type": "code",
   "execution_count": null,
   "metadata": {},
   "outputs": [],
   "source": [
    "dfKaggleReviews.columns = ['Hotel_Name', 'Reviewer_Score', 'Review', 'label']"
   ]
  },
  {
   "cell_type": "code",
   "execution_count": null,
   "metadata": {},
   "outputs": [],
   "source": [
    "def clean_review(text):\n",
    "    if text is not None and text != '':\n",
    "        # Removes special tekens/ spaties en zet alles naar lower case\n",
    "        text = re.sub(r'[^\\w\\s]', '', str(text).lower().strip())\n",
    "\n",
    "    return text"
   ]
  },
  {
   "cell_type": "code",
   "execution_count": null,
   "metadata": {},
   "outputs": [],
   "source": [
    "dfKaggleReviews['Review'] = dfKaggleReviews['Review'].apply(\n",
    "    clean_review)"
   ]
  },
  {
   "cell_type": "code",
   "execution_count": null,
   "metadata": {},
   "outputs": [],
   "source": [
    "# Cleaning\n",
    "dfKaggleReviews['Review'] = dfKaggleReviews['Review'].str.replace(\n",
    "    'no negative', '')\n",
    "dfKaggleReviews['Review'] = dfKaggleReviews['Review'].str.replace(\n",
    "    'no positive', '')"
   ]
  },
  {
   "cell_type": "code",
   "execution_count": null,
   "metadata": {},
   "outputs": [],
   "source": [
    "dfKaggleReviews.duplicated()\n",
    "dfKaggleReviews = dfKaggleReviews.drop_duplicates(keep='first')\n",
    "\n",
    "dfKaggleReviews['Review'].replace('', np.nan, inplace=True)\n",
    "dfKaggleReviews.dropna(subset=['Review'], inplace=True)\n",
    "\n",
    "dfKaggleReviews.info()"
   ]
  },
  {
   "cell_type": "code",
   "execution_count": null,
   "metadata": {},
   "outputs": [],
   "source": [
    "# Database\n",
    "client = MongoClient(\"localhost:27017\")\n",
    "\n",
    "# Collection name\n",
    "db = client[\"hotel-reviews-database\"]\n",
    "db.clean_reviews.insert_many(dfKaggleReviews.to_dict('records'))"
   ]
  },
  {
   "cell_type": "code",
   "execution_count": null,
   "metadata": {},
   "outputs": [],
   "source": []
  }
 ],
 "metadata": {
  "kernelspec": {
   "display_name": "Python 3",
   "language": "python",
   "name": "python3"
  },
  "language_info": {
   "codemirror_mode": {
    "name": "ipython",
    "version": 3
   },
   "file_extension": ".py",
   "mimetype": "text/x-python",
   "name": "python",
   "nbconvert_exporter": "python",
   "pygments_lexer": "ipython3",
   "version": "3.7.9"
  }
 },
 "nbformat": 4,
 "nbformat_minor": 4
}
