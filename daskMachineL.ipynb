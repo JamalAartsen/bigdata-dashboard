{
 "cells": [
  {
   "cell_type": "code",
   "execution_count": 1,
   "metadata": {},
   "outputs": [],
   "source": [
    "from sklearn.metrics import accuracy_score\n",
    "from sklearn.svm import SVC\n",
    "import dask.dataframe as ddf\n",
    "import joblib\n",
    "import dask.distributed\n",
    "from distributed import Client, LocalCluster\n",
    "from pymongo import MongoClient\n",
    "import pandas as pd\n",
    "import time\n",
    "from dask_ml.feature_extraction.text import CountVectorizer\n",
    "import matplotlib.pyplot as plt\n",
    "from dask_ml.model_selection import train_test_split\n",
    "from sklearn.utils import shuffle\n",
    "import dask.bag as daskb\n",
    "import numpy as np\n",
    "from dask_ml.linear_model import LinearRegression, LogisticRegression\n",
    "from sklearn.metrics import roc_curve, roc_auc_score, auc, accuracy_score, confusion_matrix, classification_report"
   ]
  },
  {
   "cell_type": "code",
   "execution_count": 2,
   "metadata": {},
   "outputs": [],
   "source": [
    "# Database\n",
    "client = MongoClient(\"localhost:27017\")\n",
    "\n",
    "# Collection name\n",
    "db = client[\"hotel-reviews-database\"]"
   ]
  },
  {
   "cell_type": "code",
   "execution_count": 3,
   "metadata": {},
   "outputs": [
    {
     "name": "stdout",
     "output_type": "stream",
     "text": [
      "          _id  Hotel_Name  Reviewer_Score  Review  label\n",
      "105810  False       False           False   False  False\n",
      "7350    False       False           False   False  False\n",
      "112881  False       False           False   False  False\n",
      "79581   False       False           False   False  False\n",
      "64606   False       False           False   False  False\n",
      "...       ...         ...             ...     ...    ...\n",
      "65585   False       False           False   False  False\n",
      "27891   False       False           False   False  False\n",
      "2573    False       False           False   False  False\n",
      "16338   False       False           False   False  False\n",
      "114272  False       False           False   False  False\n",
      "\n",
      "[121757 rows x 5 columns]\n",
      "<class 'pandas.core.frame.DataFrame'>\n",
      "Int64Index: 121757 entries, 105810 to 114272\n",
      "Data columns (total 5 columns):\n",
      " #   Column          Non-Null Count   Dtype  \n",
      "---  ------          --------------   -----  \n",
      " 0   _id             121757 non-null  object \n",
      " 1   Hotel_Name      121757 non-null  object \n",
      " 2   Reviewer_Score  121757 non-null  float64\n",
      " 3   Review          121757 non-null  object \n",
      " 4   label           121757 non-null  int64  \n",
      "dtypes: float64(1), int64(1), object(3)\n",
      "memory usage: 5.6+ MB\n"
     ]
    }
   ],
   "source": [
    "resultMongo = db.clean_reviews.find()\n",
    "source = list(resultMongo)\n",
    "resultDf = pd.DataFrame(source)\n",
    "\n",
    "# Reindex dataframe\n",
    "resultDf = shuffle(resultDf)\n",
    "resultDf.reset_index(drop=True)\n",
    "print(resultDf.isnull())\n",
    "resultDf.info()\n",
    "\n",
    "# Transform dataframe into a dask dataframe/ delete id row\n",
    "dfDask = ddf.from_pandas(resultDf, npartitions=4)\n",
    "dfDask = dfDask.drop('_id', axis=1)"
   ]
  },
  {
   "cell_type": "code",
   "execution_count": 4,
   "metadata": {},
   "outputs": [
    {
     "data": {
      "text/html": [
       "<table style=\"border: 2px solid white;\">\n",
       "<tr>\n",
       "<td style=\"vertical-align: top; border: 0px solid white\">\n",
       "<h3 style=\"text-align: left;\">Client</h3>\n",
       "<ul style=\"text-align: left; list-style: none; margin: 0; padding: 0;\">\n",
       "  <li><b>Scheduler: </b>inproc://192.168.178.38/119912/1</li>\n",
       "  <li><b>Dashboard: </b><a href='http://192.168.178.38:8787/status' target='_blank'>http://192.168.178.38:8787/status</a></li>\n",
       "</ul>\n",
       "</td>\n",
       "<td style=\"vertical-align: top; border: 0px solid white\">\n",
       "<h3 style=\"text-align: left;\">Cluster</h3>\n",
       "<ul style=\"text-align: left; list-style:none; margin: 0; padding: 0;\">\n",
       "  <li><b>Workers: </b>2</li>\n",
       "  <li><b>Cores: </b>8</li>\n",
       "  <li><b>Memory: </b>16.90 GB</li>\n",
       "</ul>\n",
       "</td>\n",
       "</tr>\n",
       "</table>"
      ],
      "text/plain": [
       "<Client: 'inproc://192.168.178.38/119912/1' processes=2 threads=8, memory=16.90 GB>"
      ]
     },
     "execution_count": 4,
     "metadata": {},
     "output_type": "execute_result"
    }
   ],
   "source": [
    "# n_workers = threadpools\n",
    "c = Client(processes=False, threads_per_worker=4, n_workers=2, memory_limit='32GB')\n",
    "c"
   ]
  },
  {
   "cell_type": "code",
   "execution_count": 5,
   "metadata": {},
   "outputs": [],
   "source": [
    "# split dataset in features and target variable, X is hoofdletter\n",
    "X = dfDask['Review'].values\n",
    "y = dfDask['label'].values"
   ]
  },
  {
   "cell_type": "code",
   "execution_count": 6,
   "metadata": {},
   "outputs": [],
   "source": [
    "X = X.compute()\n",
    "y = y.compute()"
   ]
  },
  {
   "cell_type": "code",
   "execution_count": 7,
   "metadata": {},
   "outputs": [
    {
     "name": "stdout",
     "output_type": "stream",
     "text": [
      "<class 'numpy.ndarray'>\n"
     ]
    }
   ],
   "source": [
    "print(type(X))"
   ]
  },
  {
   "cell_type": "code",
   "execution_count": 8,
   "metadata": {},
   "outputs": [],
   "source": [
    "# Split data in train set and test set\n",
    "X_train, X_test, y_train, y_test = train_test_split(\n",
    "    X, y, test_size=0.2, random_state=42)"
   ]
  },
  {
   "cell_type": "code",
   "execution_count": 9,
   "metadata": {},
   "outputs": [],
   "source": [
    "X_train = daskb.from_sequence(X_train, npartitions=2)\n",
    "X_test = daskb.from_sequence(X_test, npartitions=2)"
   ]
  },
  {
   "cell_type": "code",
   "execution_count": 10,
   "metadata": {},
   "outputs": [],
   "source": [
    "cv = CountVectorizer(max_features=1000, ngram_range=(1,2))"
   ]
  },
  {
   "cell_type": "code",
   "execution_count": 11,
   "metadata": {},
   "outputs": [],
   "source": [
    "X_cv_train = cv.fit(X_train)\n",
    "X_cv_test = cv.fit(X_test)\n",
    "\n",
    "X_cv_train = cv.transform(X_train)\n",
    "X_cv_test = cv.transform(X_test)"
   ]
  },
  {
   "cell_type": "code",
   "execution_count": 12,
   "metadata": {},
   "outputs": [],
   "source": [
    "X_final_train = X_cv_train.compute()\n",
    "X_final_test = X_cv_test.compute()"
   ]
  },
  {
   "cell_type": "code",
   "execution_count": 13,
   "metadata": {},
   "outputs": [
    {
     "name": "stdout",
     "output_type": "stream",
     "text": [
      "(97405, 1085)\n",
      "(24352, 1085)\n"
     ]
    }
   ],
   "source": [
    "print(X_final_train.shape)\n",
    "print(X_final_test.shape)"
   ]
  },
  {
   "cell_type": "code",
   "execution_count": 14,
   "metadata": {},
   "outputs": [],
   "source": [
    "logisticRegression = LogisticRegression(fit_intercept=False, solver_kwargs={\"normalize\": False})"
   ]
  },
  {
   "cell_type": "code",
   "execution_count": 15,
   "metadata": {
    "scrolled": true
   },
   "outputs": [
    {
     "name": "stdout",
     "output_type": "stream",
     "text": [
      "Wall time: 33min 3s\n"
     ]
    }
   ],
   "source": [
    "%%time\n",
    "# Fit\n",
    "with joblib.parallel_backend(\"dask\"):\n",
    "    logModel = logisticRegression.fit(X_final_train.toarray(), y_train)"
   ]
  },
  {
   "cell_type": "code",
   "execution_count": 16,
   "metadata": {
    "scrolled": true
   },
   "outputs": [
    {
     "name": "stdout",
     "output_type": "stream",
     "text": [
      "Wall time: 171 ms\n"
     ]
    }
   ],
   "source": [
    "%%time\n",
    "# Predict\n",
    "logPredict = logModel.predict(X_final_test.toarray())"
   ]
  },
  {
   "cell_type": "code",
   "execution_count": 17,
   "metadata": {},
   "outputs": [
    {
     "name": "stdout",
     "output_type": "stream",
     "text": [
      "Accuracy score:  0.9296977660972404\n"
     ]
    }
   ],
   "source": [
    "print(\"Accuracy score: \", accuracy_score(y_test, logPredict))"
   ]
  },
  {
   "cell_type": "code",
   "execution_count": 18,
   "metadata": {},
   "outputs": [
    {
     "name": "stdout",
     "output_type": "stream",
     "text": [
      "0.9293602763405542\n"
     ]
    }
   ],
   "source": [
    "aucJamal = roc_auc_score(y_test, logPredict)\n",
    "print(aucJamal)"
   ]
  },
  {
   "cell_type": "code",
   "execution_count": 19,
   "metadata": {},
   "outputs": [
    {
     "name": "stdout",
     "output_type": "stream",
     "text": [
      "Accuracy: 0.9296977660972404 | Precision: 0.9409226190476191 | Recall: 0.9323208493069891\n",
      "F1 score: 0.9366019848911273\n"
     ]
    }
   ],
   "source": [
    "from sklearn import metrics\n",
    "\n",
    "accuracy = metrics.accuracy_score(y_test, logPredict)\n",
    "recall = metrics.recall_score(y_test, logPredict)\n",
    "precision = metrics.precision_score(y_test, logPredict)\n",
    "f1_score = 2 * (precision * recall) / (precision + recall)\n",
    "\n",
    "cm = metrics.confusion_matrix(y_test, logPredict)\n",
    "\n",
    "print(f\"Accuracy: {accuracy} | Precision: {precision} | Recall: {recall}\")\n",
    "print(f\"F1 score: {f1_score}\")"
   ]
  },
  {
   "cell_type": "code",
   "execution_count": 20,
   "metadata": {},
   "outputs": [
    {
     "name": "stdout",
     "output_type": "stream",
     "text": [
      "[[ 9994   794]\n",
      " [  918 12646]]\n"
     ]
    }
   ],
   "source": [
    "print(cm)"
   ]
  },
  {
   "cell_type": "code",
   "execution_count": 21,
   "metadata": {},
   "outputs": [
    {
     "name": "stdout",
     "output_type": "stream",
     "text": [
      "0.9293602763405542\n"
     ]
    }
   ],
   "source": [
    "fpr, tpr, _ = roc_curve(y_test, logPredict)\n",
    "aucScore = auc(fpr, tpr)\n",
    "\n",
    "print(aucScore)"
   ]
  },
  {
   "cell_type": "code",
   "execution_count": 22,
   "metadata": {},
   "outputs": [
    {
     "data": {
      "image/png": "[encoded data removed]",
      "text/plain": [
       "<Figure size 432x288 with 1 Axes>"
      ]
     },
     "metadata": {
      "needs_background": "light"
     },
     "output_type": "display_data"
    }
   ],
   "source": [
    "plt.plot([0, 1], [0, 1], 'k--')\n",
    "plt.plot(fpr, tpr, label='ROC (auc=' + str(aucScore) + ')')\n",
    "plt.xlabel('False Positive Rate')\n",
    "plt.ylabel('True Positive Rate')\n",
    "plt.title('Logistic Regression ROC Curve')\n",
    "plt.legend()\n",
    "plt.show()"
   ]
  },
  {
   "cell_type": "code",
   "execution_count": 23,
   "metadata": {},
   "outputs": [
    {
     "data": {
      "image/png": "[encoded data removed]",
      "text/plain": [
       "<Figure size 432x288 with 1 Axes>"
      ]
     },
     "metadata": {
      "needs_background": "light"
     },
     "output_type": "display_data"
    }
   ],
   "source": [
    "import matplotlib.pyplot as plt\n",
    "import seaborn as sns\n",
    "\n",
    "classes = [0, 1]\n",
    "fig, ax = plt.subplots()\n",
    "sns.heatmap(cm, annot=True, fmt='d', ax=ax, cmap=plt.cm.OrRd, cbar=False)\n",
    "ax.set(xlabel=\"Voorspelt\",\n",
    "ylabel=\"True\",\n",
    "xticklabels=classes,\n",
    "yticklabels=classes,\n",
    "title=\"Confusion Matrix\")\n",
    "plt.yticks(rotation=0)\n",
    "plt.show()"
   ]
  },
  {
   "cell_type": "code",
   "execution_count": null,
   "metadata": {},
   "outputs": [],
   "source": []
  },
  {
   "cell_type": "code",
   "execution_count": null,
   "metadata": {},
   "outputs": [],
   "source": []
  },
  {
   "cell_type": "code",
   "execution_count": null,
   "metadata": {},
   "outputs": [],
   "source": []
  }
 ],
 "metadata": {
  "kernelspec": {
   "display_name": "Python 3",
   "language": "python",
   "name": "python3"
  },
  "language_info": {
   "codemirror_mode": {
    "name": "ipython",
    "version": 3
   },
   "file_extension": ".py",
   "mimetype": "text/x-python",
   "name": "python",
   "nbconvert_exporter": "python",
   "pygments_lexer": "ipython3",
   "version": "3.8.3"
  }
 },
 "nbformat": 4,
 "nbformat_minor": 4
}
